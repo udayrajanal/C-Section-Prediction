{
 "cells": [
  {
   "cell_type": "markdown",
   "id": "a986a16f",
   "metadata": {},
   "source": [
    "# Data Analysis"
   ]
  },
  {
   "cell_type": "code",
   "execution_count": 1,
   "id": "de90b870",
   "metadata": {},
   "outputs": [],
   "source": [
    "import pandas as pd\n",
    "import numpy as np"
   ]
  },
  {
   "cell_type": "code",
   "execution_count": 2,
   "id": "11c49ee9",
   "metadata": {},
   "outputs": [],
   "source": [
    "#change path\n",
    "df = pd.read_csv(r\"C:\\Users\\Gurram Yashaswi\\OneDrive\\Desktop\\ml_miniproj\\c-section\\12\\caesarian.csv\")"
   ]
  },
  {
   "cell_type": "code",
   "execution_count": 3,
   "id": "c9f5a8e6",
   "metadata": {},
   "outputs": [
    {
     "data": {
      "text/plain": [
       "80"
      ]
     },
     "execution_count": 3,
     "metadata": {},
     "output_type": "execute_result"
    }
   ],
   "source": [
    "df.head()\n",
    "len(df)"
   ]
  },
  {
   "cell_type": "code",
   "execution_count": 4,
   "id": "a0f69664",
   "metadata": {},
   "outputs": [
    {
     "data": {
      "text/plain": [
       "False    80\n",
       "Name: is_duplicated, dtype: int64"
      ]
     },
     "execution_count": 4,
     "metadata": {},
     "output_type": "execute_result"
    }
   ],
   "source": [
    "#checking for duplicates\n",
    "df['is_duplicated'] = df.duplicated()\n",
    "df['is_duplicated'].value_counts()\n"
   ]
  },
  {
   "cell_type": "code",
   "execution_count": 5,
   "id": "084872f8",
   "metadata": {},
   "outputs": [
    {
     "data": {
      "text/html": [
       "<div>\n",
       "<style scoped>\n",
       "    .dataframe tbody tr th:only-of-type {\n",
       "        vertical-align: middle;\n",
       "    }\n",
       "\n",
       "    .dataframe tbody tr th {\n",
       "        vertical-align: top;\n",
       "    }\n",
       "\n",
       "    .dataframe thead th {\n",
       "        text-align: right;\n",
       "    }\n",
       "</style>\n",
       "<table border=\"1\" class=\"dataframe\">\n",
       "  <thead>\n",
       "    <tr style=\"text-align: right;\">\n",
       "      <th></th>\n",
       "      <th>id</th>\n",
       "      <th>Age</th>\n",
       "      <th>Delivery number</th>\n",
       "      <th>Delivery time</th>\n",
       "      <th>Blood pressure</th>\n",
       "      <th>Heart problem</th>\n",
       "      <th>Caesarian</th>\n",
       "      <th>is_duplicated</th>\n",
       "      <th>duplicated_condition</th>\n",
       "    </tr>\n",
       "  </thead>\n",
       "  <tbody>\n",
       "  </tbody>\n",
       "</table>\n",
       "</div>"
      ],
      "text/plain": [
       "Empty DataFrame\n",
       "Columns: [id, Age, Delivery number, Delivery time, Blood pressure, Heart problem, Caesarian, is_duplicated, duplicated_condition]\n",
       "Index: []"
      ]
     },
     "execution_count": 5,
     "metadata": {},
     "output_type": "execute_result"
    }
   ],
   "source": [
    "#no duplicates\n",
    "#if yes below will clear out\n",
    "df[df['is_duplicated']==1].head()\n",
    "df['duplicated_condition'] = df.drop(['Caesarian', 'is_duplicated'], axis = 1).duplicated()\n",
    "df['duplicated_condition'].value_counts()\n",
    "df[df['duplicated_condition']==1].head()"
   ]
  },
  {
   "cell_type": "code",
   "execution_count": 6,
   "id": "c7e335a3",
   "metadata": {},
   "outputs": [
    {
     "data": {
      "text/html": [
       "<div>\n",
       "<style scoped>\n",
       "    .dataframe tbody tr th:only-of-type {\n",
       "        vertical-align: middle;\n",
       "    }\n",
       "\n",
       "    .dataframe tbody tr th {\n",
       "        vertical-align: top;\n",
       "    }\n",
       "\n",
       "    .dataframe thead th {\n",
       "        text-align: right;\n",
       "    }\n",
       "</style>\n",
       "<table border=\"1\" class=\"dataframe\">\n",
       "  <thead>\n",
       "    <tr style=\"text-align: right;\">\n",
       "      <th></th>\n",
       "      <th>Age</th>\n",
       "      <th>Delivery number</th>\n",
       "      <th>Caesarian</th>\n",
       "    </tr>\n",
       "  </thead>\n",
       "  <tbody>\n",
       "    <tr>\n",
       "      <th>count</th>\n",
       "      <td>80.000000</td>\n",
       "      <td>80.000000</td>\n",
       "      <td>80.000000</td>\n",
       "    </tr>\n",
       "    <tr>\n",
       "      <th>mean</th>\n",
       "      <td>27.687500</td>\n",
       "      <td>1.662500</td>\n",
       "      <td>0.575000</td>\n",
       "    </tr>\n",
       "    <tr>\n",
       "      <th>std</th>\n",
       "      <td>5.017927</td>\n",
       "      <td>0.794662</td>\n",
       "      <td>0.497462</td>\n",
       "    </tr>\n",
       "    <tr>\n",
       "      <th>min</th>\n",
       "      <td>17.000000</td>\n",
       "      <td>1.000000</td>\n",
       "      <td>0.000000</td>\n",
       "    </tr>\n",
       "    <tr>\n",
       "      <th>25%</th>\n",
       "      <td>25.000000</td>\n",
       "      <td>1.000000</td>\n",
       "      <td>0.000000</td>\n",
       "    </tr>\n",
       "    <tr>\n",
       "      <th>50%</th>\n",
       "      <td>27.000000</td>\n",
       "      <td>1.000000</td>\n",
       "      <td>1.000000</td>\n",
       "    </tr>\n",
       "    <tr>\n",
       "      <th>75%</th>\n",
       "      <td>32.000000</td>\n",
       "      <td>2.000000</td>\n",
       "      <td>1.000000</td>\n",
       "    </tr>\n",
       "    <tr>\n",
       "      <th>max</th>\n",
       "      <td>40.000000</td>\n",
       "      <td>4.000000</td>\n",
       "      <td>1.000000</td>\n",
       "    </tr>\n",
       "  </tbody>\n",
       "</table>\n",
       "</div>"
      ],
      "text/plain": [
       "             Age  Delivery number  Caesarian\n",
       "count  80.000000        80.000000  80.000000\n",
       "mean   27.687500         1.662500   0.575000\n",
       "std     5.017927         0.794662   0.497462\n",
       "min    17.000000         1.000000   0.000000\n",
       "25%    25.000000         1.000000   0.000000\n",
       "50%    27.000000         1.000000   1.000000\n",
       "75%    32.000000         2.000000   1.000000\n",
       "max    40.000000         4.000000   1.000000"
      ]
     },
     "execution_count": 6,
     "metadata": {},
     "output_type": "execute_result"
    }
   ],
   "source": [
    "#visualsing health condition and delivery history\n",
    "df[['Age','Delivery number','Caesarian']].describe()"
   ]
  },
  {
   "cell_type": "code",
   "execution_count": 7,
   "id": "414a81d2",
   "metadata": {},
   "outputs": [
    {
     "data": {
      "text/plain": [
       "1    0.575\n",
       "0    0.425\n",
       "Name: Caesarian, dtype: float64"
      ]
     },
     "execution_count": 7,
     "metadata": {},
     "output_type": "execute_result"
    }
   ],
   "source": [
    "# Breakdown of C-section occurences or not(probability)\n",
    "df['Caesarian'].value_counts()/80"
   ]
  },
  {
   "cell_type": "markdown",
   "id": "d0776215",
   "metadata": {},
   "source": [
    "#ploting"
   ]
  },
  {
   "cell_type": "code",
   "execution_count": 8,
   "id": "5766d3e5",
   "metadata": {},
   "outputs": [],
   "source": [
    "import seaborn as sns\n",
    "import matplotlib.pyplot as plt\n",
    "%matplotlib inline"
   ]
  },
  {
   "cell_type": "code",
   "execution_count": 9,
   "id": "a9ae7c5a",
   "metadata": {},
   "outputs": [
    {
     "name": "stderr",
     "output_type": "stream",
     "text": [
      "C:\\Users\\Gurram Yashaswi\\anaconda3\\lib\\site-packages\\seaborn\\_decorators.py:36: FutureWarning: Pass the following variable as a keyword arg: x. From version 0.12, the only valid positional argument will be `data`, and passing other arguments without an explicit keyword will result in an error or misinterpretation.\n",
      "  warnings.warn(\n",
      "C:\\Users\\Gurram Yashaswi\\anaconda3\\lib\\site-packages\\seaborn\\_decorators.py:36: FutureWarning: Pass the following variable as a keyword arg: x. From version 0.12, the only valid positional argument will be `data`, and passing other arguments without an explicit keyword will result in an error or misinterpretation.\n",
      "  warnings.warn(\n",
      "C:\\Users\\Gurram Yashaswi\\anaconda3\\lib\\site-packages\\seaborn\\_decorators.py:36: FutureWarning: Pass the following variable as a keyword arg: x. From version 0.12, the only valid positional argument will be `data`, and passing other arguments without an explicit keyword will result in an error or misinterpretation.\n",
      "  warnings.warn(\n",
      "C:\\Users\\Gurram Yashaswi\\anaconda3\\lib\\site-packages\\seaborn\\_decorators.py:36: FutureWarning: Pass the following variable as a keyword arg: x. From version 0.12, the only valid positional argument will be `data`, and passing other arguments without an explicit keyword will result in an error or misinterpretation.\n",
      "  warnings.warn(\n"
     ]
    },
    {
     "data": {
      "image/png": "[encoded data removed]",
      "text/plain": [
       "<Figure size 1080x720 with 4 Axes>"
      ]
     },
     "metadata": {
      "needs_background": "light"
     },
     "output_type": "display_data"
    }
   ],
   "source": [
    "# Plotting countplot\n",
    "\n",
    "fig = plt.figure(figsize=(15,10))\n",
    "\n",
    "fig.add_subplot(221)\n",
    "plt.title('Delivery number', fontsize=12)\n",
    "sns.countplot(df['Delivery number'])\n",
    "\n",
    "fig.add_subplot(2,2,2)\n",
    "plt.title('Blood pressure', fontsize=12)\n",
    "sns.countplot(df['Blood pressure'])\n",
    "\n",
    "fig.add_subplot(223)\n",
    "plt.title('Heart problem', fontsize=12)\n",
    "sns.countplot(df['Heart problem'])\n",
    "\n",
    "fig.add_subplot(2,2,4)\n",
    "plt.title('Caesarian', fontsize=12)\n",
    "sns.countplot(df['Caesarian'])\n",
    "\n",
    "plt.show()"
   ]
  },
  {
   "cell_type": "code",
   "execution_count": 10,
   "id": "cf7b3e5e",
   "metadata": {},
   "outputs": [
    {
     "data": {
      "image/png": "[encoded data removed]",
      "text/plain": [
       "<Figure size 720x648 with 9 Axes>"
      ]
     },
     "metadata": {
      "needs_background": "light"
     },
     "output_type": "display_data"
    }
   ],
   "source": [
    "fig = df.hist(bins=15,\n",
    "                 color='steelblue',\n",
    "                 #edgecolor='black', linewidth=1.0,\n",
    "                 xlabelsize=10, ylabelsize=10,\n",
    "                 #xrot=45, yrot=0,\n",
    "                 figsize=(10,9),\n",
    "                 grid=False)\n",
    "\n",
    "plt.tight_layout(rect=(0, 0, 1.5, 1.5)) "
   ]
  },
  {
   "cell_type": "code",
   "execution_count": 11,
   "id": "86d3680a",
   "metadata": {},
   "outputs": [
    {
     "data": {
      "image/png": "[encoded data removed]",
      "text/plain": [
       "<Figure size 720x504 with 1 Axes>"
      ]
     },
     "metadata": {
      "needs_background": "light"
     },
     "output_type": "display_data"
    }
   ],
   "source": [
    "fig = plt.figure(figsize=(10, 7))\n",
    "\n",
    "cp = sns.countplot(data=df, \n",
    "                   x=\"Delivery number\", \n",
    "                   hue=\"Caesarian\", \n",
    "                   palette={1: \"orange\", 0: \"blue\"})\n",
    "plt.title(\"Delivery number\")"
   ]
  },
  {
   "cell_type": "code",
   "execution_count": 12,
   "id": "78235d15",
   "metadata": {},
   "outputs": [
    {
     "data": {
      "image/png": "[encoded data removed]",
      "text/plain": [
       "<Figure size 720x504 with 1 Axes>"
      ]
     },
     "metadata": {
      "needs_background": "light"
     },
     "output_type": "display_data"
    }
   ],
   "source": [
    "fig = plt.figure(figsize=(10, 7))\n",
    "\n",
    "cp = sns.countplot(data=df, \n",
    "                   x=\"Blood pressure\", \n",
    "                   hue=\"Caesarian\", \n",
    "                   palette={1: \"orange\", 0: \"blue\"})"
   ]
  },
  {
   "cell_type": "code",
   "execution_count": 13,
   "id": "9e0b7bf4",
   "metadata": {},
   "outputs": [
    {
     "data": {
      "image/png": "[encoded data removed]",
      "text/plain": [
       "<Figure size 720x504 with 1 Axes>"
      ]
     },
     "metadata": {
      "needs_background": "light"
     },
     "output_type": "display_data"
    }
   ],
   "source": [
    "fig = plt.figure(figsize=(10, 7))\n",
    "\n",
    "cp = sns.countplot(data=df, \n",
    "                   x=\"Heart problem\", \n",
    "                   hue=\"Caesarian\", \n",
    "                   palette={1: \"orange\", 0: \"blue\"})"
   ]
  },
  {
   "cell_type": "code",
   "execution_count": 14,
   "id": "e17d5eda",
   "metadata": {},
   "outputs": [
    {
     "data": {
      "image/png": "[encoded data removed]",
      "text/plain": [
       "<Figure size 720x504 with 1 Axes>"
      ]
     },
     "metadata": {
      "needs_background": "light"
     },
     "output_type": "display_data"
    }
   ],
   "source": [
    "fig = plt.figure(figsize=(10, 7))\n",
    "\n",
    "cp = sns.countplot(data=df, \n",
    "                   x=\"Delivery time\", \n",
    "                   hue=\"Caesarian\", \n",
    "                   palette={1: \"orange\", 0: \"blue\"})"
   ]
  },
  {
   "cell_type": "code",
   "execution_count": 15,
   "id": "b52ee444",
   "metadata": {},
   "outputs": [
    {
     "data": {
      "image/png": "[encoded data removed]",
      "text/plain": [
       "<Figure size 706x648 with 9 Axes>"
      ]
     },
     "metadata": {
      "needs_background": "light"
     },
     "output_type": "display_data"
    }
   ],
   "source": [
    "g = sns.FacetGrid(df, col=\"Blood pressure\",  row=\"Delivery time\",hue='Caesarian')\n",
    "g = g.map(plt.scatter, \"Age\", \"Delivery number\").add_legend()"
   ]
  },
  {
   "cell_type": "markdown",
   "id": "8a2b703a",
   "metadata": {},
   "source": [
    "# Algorithm"
   ]
  },
  {
   "cell_type": "code",
   "execution_count": 16,
   "id": "38cff07f",
   "metadata": {},
   "outputs": [],
   "source": [
    "# Define the variables\n",
    "X = df.drop('Caesarian', axis =1)\n",
    "y = df['Caesarian']"
   ]
  },
  {
   "cell_type": "code",
   "execution_count": 17,
   "id": "11ac4079",
   "metadata": {},
   "outputs": [
    {
     "data": {
      "text/html": [
       "<div>\n",
       "<style scoped>\n",
       "    .dataframe tbody tr th:only-of-type {\n",
       "        vertical-align: middle;\n",
       "    }\n",
       "\n",
       "    .dataframe tbody tr th {\n",
       "        vertical-align: top;\n",
       "    }\n",
       "\n",
       "    .dataframe thead th {\n",
       "        text-align: right;\n",
       "    }\n",
       "</style>\n",
       "<table border=\"1\" class=\"dataframe\">\n",
       "  <thead>\n",
       "    <tr style=\"text-align: right;\">\n",
       "      <th></th>\n",
       "      <th>Delivery time_1</th>\n",
       "      <th>Delivery time_2</th>\n",
       "      <th>Blood pressure_1</th>\n",
       "      <th>Blood pressure_2</th>\n",
       "      <th>Heart problem_1</th>\n",
       "    </tr>\n",
       "  </thead>\n",
       "  <tbody>\n",
       "    <tr>\n",
       "      <th>0</th>\n",
       "      <td>0</td>\n",
       "      <td>0</td>\n",
       "      <td>0</td>\n",
       "      <td>1</td>\n",
       "      <td>0</td>\n",
       "    </tr>\n",
       "    <tr>\n",
       "      <th>1</th>\n",
       "      <td>0</td>\n",
       "      <td>0</td>\n",
       "      <td>1</td>\n",
       "      <td>0</td>\n",
       "      <td>0</td>\n",
       "    </tr>\n",
       "    <tr>\n",
       "      <th>2</th>\n",
       "      <td>1</td>\n",
       "      <td>0</td>\n",
       "      <td>1</td>\n",
       "      <td>0</td>\n",
       "      <td>0</td>\n",
       "    </tr>\n",
       "    <tr>\n",
       "      <th>3</th>\n",
       "      <td>0</td>\n",
       "      <td>0</td>\n",
       "      <td>0</td>\n",
       "      <td>1</td>\n",
       "      <td>0</td>\n",
       "    </tr>\n",
       "    <tr>\n",
       "      <th>4</th>\n",
       "      <td>0</td>\n",
       "      <td>0</td>\n",
       "      <td>1</td>\n",
       "      <td>0</td>\n",
       "      <td>0</td>\n",
       "    </tr>\n",
       "  </tbody>\n",
       "</table>\n",
       "</div>"
      ],
      "text/plain": [
       "   Delivery time_1  Delivery time_2  Blood pressure_1  Blood pressure_2  \\\n",
       "0                0                0                 0                 1   \n",
       "1                0                0                 1                 0   \n",
       "2                1                0                 1                 0   \n",
       "3                0                0                 0                 1   \n",
       "4                0                0                 1                 0   \n",
       "\n",
       "   Heart problem_1  \n",
       "0                0  \n",
       "1                0  \n",
       "2                0  \n",
       "3                0  \n",
       "4                0  "
      ]
     },
     "execution_count": 17,
     "metadata": {},
     "output_type": "execute_result"
    }
   ],
   "source": [
    "# Take care of categorical data using dummy variables\n",
    "columns_to_encode = ['Delivery time', 'Blood pressure', 'Heart problem']\n",
    "encoded_columns = pd.get_dummies(df[columns_to_encode],columns=columns_to_encode,drop_first=True)\n",
    "encoded_columns.head()"
   ]
  },
  {
   "cell_type": "code",
   "execution_count": 18,
   "id": "ac878914",
   "metadata": {},
   "outputs": [],
   "source": [
    "encoded_columns = encoded_columns.values"
   ]
  },
  {
   "cell_type": "code",
   "execution_count": 19,
   "id": "983bea38",
   "metadata": {},
   "outputs": [],
   "source": [
    "# Scale the numerical features\n",
    "from sklearn.preprocessing import StandardScaler\n",
    "sc_X = StandardScaler()\n",
    "columns_to_scale = ['Age','Delivery number']\n",
    "scaled_columns = sc_X.fit_transform(df[columns_to_scale])"
   ]
  },
  {
   "cell_type": "code",
   "execution_count": 20,
   "id": "39e90be6",
   "metadata": {},
   "outputs": [],
   "source": [
    "X = np.concatenate([encoded_columns, scaled_columns], axis = 1)"
   ]
  },
  {
   "cell_type": "markdown",
   "id": "bd457285",
   "metadata": {},
   "source": [
    "# Training and Test set"
   ]
  },
  {
   "cell_type": "code",
   "execution_count": 22,
   "id": "539a3ee4",
   "metadata": {},
   "outputs": [],
   "source": [
    "# Splitting the dataset into the Training set and the Test set\n",
    "from sklearn.model_selection import train_test_split\n",
    "X_train, X_test, y_train, y_test = train_test_split(X, y, test_size = 0.3, random_state = 0)"
   ]
  },
  {
   "cell_type": "code",
   "execution_count": 23,
   "id": "f22d72b9",
   "metadata": {},
   "outputs": [
    {
     "data": {
      "text/plain": [
       "0    12\n",
       "1    12\n",
       "Name: Caesarian, dtype: int64"
      ]
     },
     "execution_count": 23,
     "metadata": {},
     "output_type": "execute_result"
    }
   ],
   "source": [
    "y_test.value_counts()"
   ]
  },
  {
   "cell_type": "markdown",
   "id": "217e390c",
   "metadata": {},
   "source": [
    "# decision tree and random forest"
   ]
  },
  {
   "cell_type": "code",
   "execution_count": 24,
   "id": "f4189760",
   "metadata": {},
   "outputs": [],
   "source": [
    "import matplotlib.pyplot as plt\n",
    "from sklearn import model_selection\n",
    "\n",
    "from sklearn.tree import DecisionTreeClassifier \n",
    "from sklearn.ensemble import RandomForestClassifier"
   ]
  },
  {
   "cell_type": "code",
   "execution_count": 25,
   "id": "396dff4b",
   "metadata": {},
   "outputs": [],
   "source": [
    "# prepare configuration for cross validation test harness\n",
    "seed = 7\n",
    "# prepare models\n",
    "models = []\n",
    "\n",
    "models.append(('ID3', DecisionTreeClassifier()))     #ID3,C4.5,CART are decision tree algorithms\n",
    "models.append(('RF', RandomForestClassifier(n_estimators = 10)))  "
   ]
  },
  {
   "cell_type": "code",
   "execution_count": 26,
   "id": "fb92b895",
   "metadata": {},
   "outputs": [
    {
     "name": "stdout",
     "output_type": "stream",
     "text": [
      "ID3: 0.520000 (0.210396)\n",
      "RF: 0.470000 (0.202457)\n"
     ]
    }
   ],
   "source": [
    "# evaluate each model in turn\n",
    "results = []\n",
    "names = []\n",
    "scoring = 'accuracy'\n",
    "for name, model in models:\n",
    "    kfold = model_selection.KFold(n_splits=10,shuffle=True, random_state=seed)\n",
    "    cv_results = model_selection.cross_val_score(model, X_train, y_train, cv=kfold, scoring=scoring)\n",
    "    results.append(cv_results)\n",
    "    names.append(name)\n",
    "    msg = \"%s: %f (%f)\" % (name, cv_results.mean(), cv_results.std())\n",
    "    print(msg)"
   ]
  },
  {
   "cell_type": "code",
   "execution_count": 27,
   "id": "9335fe1a",
   "metadata": {},
   "outputs": [
    {
     "data": {
      "image/png": "[encoded data removed]",
      "text/plain": [
       "<Figure size 432x288 with 1 Axes>"
      ]
     },
     "metadata": {
      "needs_background": "light"
     },
     "output_type": "display_data"
    }
   ],
   "source": [
    "# boxplot algorithm comparison\n",
    "fig = plt.figure()\n",
    "fig.suptitle('Algorithm Comparison')\n",
    "ax = fig.add_subplot(111)\n",
    "plt.boxplot(results)\n",
    "ax.set_xticklabels(names)\n",
    "plt.show()"
   ]
  },
  {
   "cell_type": "markdown",
   "id": "5fe3ed59",
   "metadata": {},
   "source": [
    "# Modeling"
   ]
  },
  {
   "cell_type": "code",
   "execution_count": 28,
   "id": "6b118400",
   "metadata": {},
   "outputs": [
    {
     "name": "stdout",
     "output_type": "stream",
     "text": [
      "[0]Decision Tree Classifier Training Accuracy: 0.9642857142857143\n",
      "[1]Random Forest Classifier Training Accuracy: 0.9464285714285714\n"
     ]
    }
   ],
   "source": [
    "def models(X_train,y_train):\n",
    "\n",
    "  #Using DecisionTreeClassifier of tree class to use Decision Tree Algorithm\n",
    "  from sklearn.tree import DecisionTreeClassifier\n",
    "  tree =DecisionTreeClassifier(criterion = 'entropy', random_state = 0)\n",
    "  tree.fit(X_train, y_train)\n",
    "\n",
    "  #Using RandomForestClassifier method of ensemble class to use Random Forest Classification algorithm\n",
    "  from sklearn.ensemble import RandomForestClassifier\n",
    "  forest = RandomForestClassifier(n_estimators = 10, criterion = 'entropy', random_state = 10)\n",
    "  forest.fit(X_train, y_train)\n",
    "      \n",
    "  print('[0]Decision Tree Classifier Training Accuracy:', tree.score(X_train, y_train))\n",
    "  print('[1]Random Forest Classifier Training Accuracy:', forest.score(X_train, y_train))\n",
    "  \n",
    "  return  tree, forest \n",
    "\n",
    "model = models(X_train,y_train)"
   ]
  },
  {
   "cell_type": "code",
   "execution_count": 29,
   "id": "88d18ba2",
   "metadata": {},
   "outputs": [
    {
     "name": "stdout",
     "output_type": "stream",
     "text": [
      "Model  0\n",
      "              precision    recall  f1-score   support\n",
      "\n",
      "           0       0.60      0.50      0.55        12\n",
      "           1       0.57      0.67      0.62        12\n",
      "\n",
      "    accuracy                           0.58        24\n",
      "   macro avg       0.59      0.58      0.58        24\n",
      "weighted avg       0.59      0.58      0.58        24\n",
      "\n",
      "Accuracy: 0.5833333333333334\n",
      "Precision: 0.5714285714285714\n",
      "Recall: 0.6666666666666666\n",
      "F1 Score: 0.6153846153846153\n",
      "Roc Auc Score: 0.5833333333333333\n",
      "Balanced Accuracy Score: 0.5833333333333333\n",
      "Confusion Matrix: [[6 6]\n",
      " [4 8]]\n",
      "\n",
      "Model  1\n",
      "              precision    recall  f1-score   support\n",
      "\n",
      "           0       0.67      0.67      0.67        12\n",
      "           1       0.67      0.67      0.67        12\n",
      "\n",
      "    accuracy                           0.67        24\n",
      "   macro avg       0.67      0.67      0.67        24\n",
      "weighted avg       0.67      0.67      0.67        24\n",
      "\n",
      "Accuracy: 0.6666666666666666\n",
      "Precision: 0.6666666666666666\n",
      "Recall: 0.6666666666666666\n",
      "F1 Score: 0.6666666666666666\n",
      "Roc Auc Score: 0.6666666666666667\n",
      "Balanced Accuracy Score: 0.6666666666666666\n",
      "Confusion Matrix: [[8 4]\n",
      " [4 8]]\n",
      "\n"
     ]
    }
   ],
   "source": [
    "from sklearn.metrics import classification_report\n",
    "from sklearn.metrics import confusion_matrix\n",
    "from sklearn.metrics import accuracy_score\n",
    "from sklearn.metrics import precision_score\n",
    "from sklearn.metrics import recall_score\n",
    "from sklearn.metrics import f1_score\n",
    "from sklearn.metrics import plot_roc_curve\n",
    "from sklearn.metrics import roc_auc_score\n",
    "from sklearn.metrics import balanced_accuracy_score\n",
    "import numpy as np\n",
    "for i in range(len(model)):\n",
    "  print('Model ',i)\n",
    "  #Check Accuracy precision, recall, f1-score\n",
    "  print( classification_report(y_test, model[i].predict(X_test)) )\n",
    "  #Another way to get the models accuracy on the test data\n",
    "  print(F'Accuracy:',accuracy_score(y_test, model[i].predict(X_test)))\n",
    "  print(F'Precision:', precision_score(y_test, model[i].predict(X_test)))\n",
    "  print(F'Recall:', recall_score(y_test, model[i].predict(X_test)))\n",
    "  print(F'F1 Score:', f1_score(y_test, model[i].predict(X_test)))\n",
    "\n",
    "  #Check Roc Auc Score\n",
    "  print( F'Roc Auc Score:',roc_auc_score(y_test, model[i].predict(X_test)) )\n",
    "  print( F'Balanced Accuracy Score:',balanced_accuracy_score(y_test, model[i].predict(X_test)) ) \n",
    "  print( F'Confusion Matrix:',confusion_matrix(y_test, model[i].predict(X_test)) )\n",
    "  print()#Print a new line"
   ]
  },
  {
   "cell_type": "code",
   "execution_count": 30,
   "id": "dc7cb22a",
   "metadata": {},
   "outputs": [
    {
     "name": "stdout",
     "output_type": "stream",
     "text": [
      "Model  0\n"
     ]
    },
    {
     "data": {
      "image/png": "[encoded data removed]",
      "text/plain": [
       "<Figure size 432x288 with 1 Axes>"
      ]
     },
     "metadata": {
      "needs_background": "light"
     },
     "output_type": "display_data"
    },
    {
     "name": "stdout",
     "output_type": "stream",
     "text": [
      "Model  1\n"
     ]
    },
    {
     "data": {
      "image/png": "[encoded data removed]",
      "text/plain": [
       "<Figure size 432x288 with 1 Axes>"
      ]
     },
     "metadata": {
      "needs_background": "light"
     },
     "output_type": "display_data"
    }
   ],
   "source": [
    "for i in range(len(model)):\n",
    "  print('Model ',i)\n",
    "# ROC CURVE\n",
    "  plot_roc_curve(model[i], X_test, y_test)\n",
    "  plt.title('ROC Curve')\n",
    "  plt.plot([0, 1], [0, 1], 'r--')\n",
    "  plt.show()"
   ]
  },
  {
   "cell_type": "code",
   "execution_count": 31,
   "id": "1d47fa37",
   "metadata": {},
   "outputs": [
    {
     "name": "stdout",
     "output_type": "stream",
     "text": [
      "[0 0 1 1 1 1 0 1 1 1 1 0 1 0 1 1 1 0 0 1 0 0 1 0]\n",
      "\n",
      "50    0\n",
      "27    0\n",
      "30    0\n",
      "77    1\n",
      "45    1\n",
      "71    1\n",
      "66    1\n",
      "68    1\n",
      "48    0\n",
      "69    0\n",
      "40    1\n",
      "63    1\n",
      "2     0\n",
      "72    0\n",
      "52    0\n",
      "34    1\n",
      "3     0\n",
      "22    0\n",
      "7     1\n",
      "26    1\n",
      "42    1\n",
      "38    0\n",
      "41    1\n",
      "79    0\n",
      "Name: Caesarian, dtype: int64\n"
     ]
    }
   ],
   "source": [
    "#Print Prediction of decision tree Classifier model\n",
    "pred = model[0].predict(X_test)\n",
    "print(pred)\n",
    "#Print a space\n",
    "print()\n",
    "#Print the actual values\n",
    "print(y_test)"
   ]
  },
  {
   "cell_type": "code",
   "execution_count": 32,
   "id": "b9f964f5",
   "metadata": {},
   "outputs": [
    {
     "name": "stdout",
     "output_type": "stream",
     "text": [
      "[1 0 0 1 1 1 0 0 0 1 1 0 0 0 1 0 1 0 1 1 1 0 1 0]\n",
      "\n",
      "50    0\n",
      "27    0\n",
      "30    0\n",
      "77    1\n",
      "45    1\n",
      "71    1\n",
      "66    1\n",
      "68    1\n",
      "48    0\n",
      "69    0\n",
      "40    1\n",
      "63    1\n",
      "2     0\n",
      "72    0\n",
      "52    0\n",
      "34    1\n",
      "3     0\n",
      "22    0\n",
      "7     1\n",
      "26    1\n",
      "42    1\n",
      "38    0\n",
      "41    1\n",
      "79    0\n",
      "Name: Caesarian, dtype: int64\n"
     ]
    }
   ],
   "source": [
    "#Print Prediction of Random Forest Classifier model\n",
    "pred = model[1].predict(X_test)\n",
    "print(pred)\n",
    "#Print a space\n",
    "print()\n",
    "#Print the actual values\n",
    "print(y_test)"
   ]
  },
  {
   "cell_type": "code",
   "execution_count": 33,
   "id": "8d5d78f3",
   "metadata": {},
   "outputs": [
    {
     "data": {
      "text/html": [
       "<style type=\"text/css\">\n",
       "#T_692bc_row0_col1 {\n",
       "  background-color: #08306b;\n",
       "  color: #f1f1f1;\n",
       "}\n",
       "#T_692bc_row1_col1 {\n",
       "  background-color: #f7fbff;\n",
       "  color: #000000;\n",
       "}\n",
       "</style>\n",
       "<table id=\"T_692bc_\">\n",
       "  <thead>\n",
       "    <tr>\n",
       "      <th class=\"blank level0\" >&nbsp;</th>\n",
       "      <th class=\"col_heading level0 col0\" >Models</th>\n",
       "      <th class=\"col_heading level0 col1\" >Accuracy Score</th>\n",
       "    </tr>\n",
       "  </thead>\n",
       "  <tbody>\n",
       "    <tr>\n",
       "      <th id=\"T_692bc_level0_row0\" class=\"row_heading level0 row0\" >1</th>\n",
       "      <td id=\"T_692bc_row0_col0\" class=\"data row0 col0\" >Random Forest</td>\n",
       "      <td id=\"T_692bc_row0_col1\" class=\"data row0 col1\" >0.660000</td>\n",
       "    </tr>\n",
       "    <tr>\n",
       "      <th id=\"T_692bc_level0_row1\" class=\"row_heading level0 row1\" >0</th>\n",
       "      <td id=\"T_692bc_row1_col0\" class=\"data row1 col0\" >Decision Tree</td>\n",
       "      <td id=\"T_692bc_row1_col1\" class=\"data row1 col1\" >0.580000</td>\n",
       "    </tr>\n",
       "  </tbody>\n",
       "</table>\n"
      ],
      "text/plain": [
       "<pandas.io.formats.style.Styler at 0x1cae0f6d910>"
      ]
     },
     "execution_count": 33,
     "metadata": {},
     "output_type": "execute_result"
    }
   ],
   "source": [
    "#Accuracy Score\n",
    "acc_0 = 0.58 \n",
    "acc_1 = 0.66\n",
    "\n",
    "results = pd.DataFrame([[\"Decision Tree\",acc_0],[\"Random Forest\",acc_1]],\n",
    "                        columns = [\"Models\",\"Accuracy Score\"]).sort_values(by='Accuracy Score',ascending=False)\n",
    "\n",
    "\n",
    "results.style.background_gradient(cmap='Blues')"
   ]
  },
  {
   "cell_type": "code",
   "execution_count": 37,
   "id": "43c73acf",
   "metadata": {},
   "outputs": [
    {
     "data": {
      "text/html": [
       "<style type=\"text/css\">\n",
       "#T_d333f_row0_col1 {\n",
       "  background-color: #08306b;\n",
       "  color: #f1f1f1;\n",
       "}\n",
       "#T_d333f_row1_col1 {\n",
       "  background-color: #f7fbff;\n",
       "  color: #000000;\n",
       "}\n",
       "</style>\n",
       "<table id=\"T_d333f_\">\n",
       "  <thead>\n",
       "    <tr>\n",
       "      <th class=\"blank level0\" >&nbsp;</th>\n",
       "      <th class=\"col_heading level0 col0\" >Models</th>\n",
       "      <th class=\"col_heading level0 col1\" >Precision Score</th>\n",
       "    </tr>\n",
       "  </thead>\n",
       "  <tbody>\n",
       "    <tr>\n",
       "      <th id=\"T_d333f_level0_row0\" class=\"row_heading level0 row0\" >1</th>\n",
       "      <td id=\"T_d333f_row0_col0\" class=\"data row0 col0\" >Random Forest</td>\n",
       "      <td id=\"T_d333f_row0_col1\" class=\"data row0 col1\" >0.660000</td>\n",
       "    </tr>\n",
       "    <tr>\n",
       "      <th id=\"T_d333f_level0_row1\" class=\"row_heading level0 row1\" >0</th>\n",
       "      <td id=\"T_d333f_row1_col0\" class=\"data row1 col0\" >Decision Tree</td>\n",
       "      <td id=\"T_d333f_row1_col1\" class=\"data row1 col1\" >0.570000</td>\n",
       "    </tr>\n",
       "  </tbody>\n",
       "</table>\n"
      ],
      "text/plain": [
       "<pandas.io.formats.style.Styler at 0x1cae1e6cee0>"
      ]
     },
     "execution_count": 37,
     "metadata": {},
     "output_type": "execute_result"
    }
   ],
   "source": [
    "# Precision Score\n",
    "pre_0 = 0.57 \n",
    "pre_1 = 0.66\n",
    "\n",
    "results = pd.DataFrame([[\"Decision Tree\",pre_0],[\"Random Forest\",pre_1]],\n",
    "                        columns = [\"Models\",\"Precision Score\"]).sort_values(by='Precision Score',ascending=False)\n",
    "\n",
    "\n",
    "results.style.background_gradient(cmap='Blues')"
   ]
  },
  {
   "cell_type": "code",
   "execution_count": 38,
   "id": "6b98f883",
   "metadata": {},
   "outputs": [
    {
     "data": {
      "text/html": [
       "<style type=\"text/css\">\n",
       "#T_25f77_row0_col1, #T_25f77_row1_col1 {\n",
       "  background-color: #f7fbff;\n",
       "  color: #000000;\n",
       "}\n",
       "</style>\n",
       "<table id=\"T_25f77_\">\n",
       "  <thead>\n",
       "    <tr>\n",
       "      <th class=\"blank level0\" >&nbsp;</th>\n",
       "      <th class=\"col_heading level0 col0\" >Models</th>\n",
       "      <th class=\"col_heading level0 col1\" >Recall Score</th>\n",
       "    </tr>\n",
       "  </thead>\n",
       "  <tbody>\n",
       "    <tr>\n",
       "      <th id=\"T_25f77_level0_row0\" class=\"row_heading level0 row0\" >0</th>\n",
       "      <td id=\"T_25f77_row0_col0\" class=\"data row0 col0\" >Decision Tree</td>\n",
       "      <td id=\"T_25f77_row0_col1\" class=\"data row0 col1\" >0.660000</td>\n",
       "    </tr>\n",
       "    <tr>\n",
       "      <th id=\"T_25f77_level0_row1\" class=\"row_heading level0 row1\" >1</th>\n",
       "      <td id=\"T_25f77_row1_col0\" class=\"data row1 col0\" >Random Forest</td>\n",
       "      <td id=\"T_25f77_row1_col1\" class=\"data row1 col1\" >0.660000</td>\n",
       "    </tr>\n",
       "  </tbody>\n",
       "</table>\n"
      ],
      "text/plain": [
       "<pandas.io.formats.style.Styler at 0x1cae202deb0>"
      ]
     },
     "execution_count": 38,
     "metadata": {},
     "output_type": "execute_result"
    }
   ],
   "source": [
    "rec_0 = 0.66 \n",
    "rec_1 = 0.66\n",
    "\n",
    "results = pd.DataFrame([[\"Decision Tree\",rec_0],[\"Random Forest\",rec_1]],\n",
    "                        columns = [\"Models\",\"Recall Score\"]).sort_values(by='Recall Score',ascending=False)\n",
    "\n",
    "\n",
    "results.style.background_gradient(cmap='Blues')"
   ]
  },
  {
   "cell_type": "code",
   "execution_count": null,
   "id": "14c593e3",
   "metadata": {},
   "outputs": [],
   "source": []
  }
 ],
 "metadata": {
  "kernelspec": {
   "display_name": "Python 3 (ipykernel)",
   "language": "python",
   "name": "python3"
  },
  "language_info": {
   "codemirror_mode": {
    "name": "ipython",
    "version": 3
   },
   "file_extension": ".py",
   "mimetype": "text/x-python",
   "name": "python",
   "nbconvert_exporter": "python",
   "pygments_lexer": "ipython3",
   "version": "3.9.7"
  }
 },
 "nbformat": 4,
 "nbformat_minor": 5
}
